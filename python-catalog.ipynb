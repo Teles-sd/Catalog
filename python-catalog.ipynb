{
 "cells": [
  {
   "cell_type": "markdown",
   "metadata": {},
   "source": [
    "# PYTHON"
   ]
  },
  {
   "cell_type": "raw",
   "metadata": {},
   "source": [
    "\tJUPYTER/CONDA\n",
    "\n",
    "\n",
    "- List enviroments:\n",
    "$ conda env list\n",
    "\n",
    "- Activate/deactivate enviroment (conda>=4.6):\n",
    "$ conda activate <enviroment>\n",
    "$ conda deactivate <enviroment>\n",
    "\n",
    "$ conda activate udemy\n",
    "\n",
    "- Open jupyter:\n",
    "$ jupyter notebook\n",
    "$ jupyter notebook <file.ipynb>\n",
    "$ jupyper lab\n",
    "$ jupyper lab <file.ipynb>\n",
    "\n",
    "\n",
    "- Jupyter shortcuts:\n",
    "\n",
    "[shift] + [Enter]: run cell\n",
    "[alt] + [Enter]: run cell & add one cell\n",
    "\n",
    "[d] + [d]: Delete selected cell"
   ]
  },
  {
   "cell_type": "raw",
   "metadata": {},
   "source": [
    "    MARKDOWN FORMATING\n",
    "\n",
    "# Bigger\n",
    "**negrito**\n",
    "*itálico*"
   ]
  },
  {
   "cell_type": "raw",
   "metadata": {},
   "source": [
    "    PYTHON HELP\n",
    "\n",
    "- Show possible methods for the object (on jupyter):\n",
    "<python-object>. + [tab]\n",
    "\n",
    "- Python documentation about object:\n",
    ">>> help(<python-object>)\n"
   ]
  },
  {
   "cell_type": "raw",
   "metadata": {},
   "source": [
    "    OPERATORS PREDECEDENCE:\n",
    "\n",
    "    **              Exponential\n",
    "    ~  +  -         Complement (all bits reversed), unary plus and minus\n",
    "    *  /  %  //     Multiply, devide, modulo, floor division\n",
    "    +  -\n",
    "    >> <<           Right and left bitwise shift\n",
    "    &               Bitwise AND\n",
    "    ^  |            Bitwise XOR and OR\n",
    "    <=  <  >  >=\n",
    "    =  %=  /=  //=  Assignment operators\n",
    "    -=  +=  *= **=  Assignment operators\n",
    "    is is not       Identity operators\n",
    "    in not in       Membreship operators\n",
    "    not or and      Logical operators\n",
    "\n",
    "\n",
    "- Examples:\n",
    "\n",
    "9 | 4\n",
    "  |---\n",
    "1 | 2\n",
    "\n",
    "- Division:\n",
    ">>> 9/4\n",
    "[out]: 2.25\n",
    "\n",
    "- Floor division:\n",
    ">>> 9//4\n",
    "[out]: 2\n",
    "\n",
    "- Mod:\n",
    ">>> 9%4\n",
    "[out]: 1\n"
   ]
  },
  {
   "cell_type": "code",
   "execution_count": 2,
   "metadata": {},
   "outputs": [
    {
     "name": "stdout",
     "output_type": "stream",
     "text": [
      "Complement of 0b0100 (4): -0b101 ( -5 )\n",
      "Binary of 7 : 0b111 \n",
      "\n",
      "Div 9/4: 2.25\n",
      "Floor div 9/4: 2\n",
      "Mod 9/4: 1 \n",
      "\n"
     ]
    }
   ],
   "source": [
    "print(\"Complement of 0b0100 (4):\",bin(~0b0100),\"(\",~0b0100,\")\")\n",
    "print(\"Binary of 7 :\",bin(7),\"\\n\")\n",
    "print(\"Div 9/4:\",9/4)\n",
    "# 9 | 4\n",
    "#   |---\n",
    "# 1 | 2\n",
    "print(\"Floor div 9/4:\",9//4)\n",
    "print(\"Mod 9/4:\",9%4,\"\\n\")\n",
    "\n",
    "\n"
   ]
  },
  {
   "cell_type": "code",
   "execution_count": 46,
   "metadata": {},
   "outputs": [
    {
     "name": "stdout",
     "output_type": "stream",
     "text": [
      "[[0, 0, 0, 0, 0, 0, 0, 0], [0, 7, 0, 0, 0, 0, 0, 0], [0, 0, 0, 0, 0, 0, 0, 0], [0, 0, 0, 0, 0, 0, 0, 0], [0, 0, 0, 0, 0, 0, 0, 0], [0, 0, 0, 0, 0, 0, 0, 0], [0, 0, 0, 0, 0, 0, 0, 0], [0, 0, 0, 0, 0, 0, 0, 0]]\n",
      "7\n"
     ]
    }
   ],
   "source": [
    "board = [[  0,  0,  0,  0,  0,  0,  0,  0],\n",
    "...      [  0,  7,  0,  0,  0,  0,  0,  0],\n",
    "...      [  0,  0,  0,  0,  0,  0,  0,  0],\n",
    "...      [  0,  0,  0,  0,  0,  0,  0,  0],\n",
    "...      [  0,  0,  0,  0,  0,  0,  0,  0],\n",
    "...      [  0,  0,  0,  0,  0,  0,  0,  0],\n",
    "...      [  0,  0,  0,  0,  0,  0,  0,  0],\n",
    "...      [  0,  0,  0,  0,  0,  0,  0,  0]]\n",
    "'''\n",
    "\n",
    "import numpy as np\n",
    "\n",
    "\n",
    "board = np.array([[  0,  0,  0,  0,  0,  0,  0,  0],\n",
    "                  [  0,  7,  0,  0,  0,  0,  0,  0],\n",
    "                  [  0,  0,  0,  0,  0,  0,  0,  0],\n",
    "                  [  0,  0,  0,  0,  0,  0,  0,  0],\n",
    "                  [  0,  0,  0,  0,  0,  0,  0,  0],\n",
    "                  [  0,  0,  0,  0,  0,  0,  0,  0],\n",
    "                  [  0,  0,  0,  0,  0,  0,  0,  0],\n",
    "                  [  0,  0,  0,  0,  0,  0,  0,  0]])\n",
    "'''\n",
    "\n",
    "print (board)\n",
    "print (board[1][1])\n",
    "\n"
   ]
  },
  {
   "cell_type": "code",
   "execution_count": 59,
   "metadata": {},
   "outputs": [
    {
     "data": {
      "text/plain": [
       "'FUCK ME'"
      ]
     },
     "execution_count": 59,
     "metadata": {},
     "output_type": "execute_result"
    }
   ],
   "source": [
    "\n",
    ">>> someString = 'FUCKING HELP ME'\n",
    "\n",
    "someString.replace('ING HELP', '')"
   ]
  },
  {
   "cell_type": "code",
   "execution_count": null,
   "metadata": {},
   "outputs": [],
   "source": [
    "'aaaaaaaaaaaaa'.isupper()"
   ]
  },
  {
   "cell_type": "code",
   "execution_count": 60,
   "metadata": {},
   "outputs": [
    {
     "data": {
      "text/plain": [
       "list"
      ]
     },
     "execution_count": 60,
     "metadata": {},
     "output_type": "execute_result"
    }
   ],
   "source": [
    "dicio = {'a': 1, 'b': 'two', 'c': 12.3}\n",
    "\n",
    "dicio.keys()\n",
    "type(dicio.keys())\n",
    "\n",
    "list(dicio.keys())\n",
    "type(list(dicio.keys()))\n"
   ]
  },
  {
   "cell_type": "code",
   "execution_count": 4,
   "metadata": {},
   "outputs": [
    {
     "name": "stdout",
     "output_type": "stream",
     "text": [
      "\n",
      "Formating operators:\n",
      " Número como string: 69.69\n",
      " Inteiro:  69\n",
      " Float(1 decimal):[      69.690] \n",
      "                 [123456789-12]\n",
      " Hexadecimal: 1B \n"
     ]
    }
   ],
   "source": [
    "a = 'Formating operators:\\n'\n",
    "n = 'Número como string: %s\\n'\n",
    "i = 'Inteiro:  %d\\n'\n",
    "f = 'Float(1 decimal):[%12.3f] \\n                 [123456789-12]\\n'\n",
    "h = 'Hexadecimal: %X '\n",
    "numerooo = 69.69\n",
    "otro_num = 27\n",
    "print( a, n % numerooo, i % numerooo, f % numerooo, h % otro_num)\n"
   ]
  },
  {
   "cell_type": "code",
   "execution_count": 8,
   "metadata": {},
   "outputs": [
    {
     "name": "stdout",
     "output_type": "stream",
     "text": [
      "Hello ['John', 'Doe', 53.44] s. Your current balance is $s.\n"
     ]
    }
   ],
   "source": [
    "\n",
    ">>> data = (\"John\", \"Doe\", 53.44)\n",
    ">>> format_string = \"Hello %s %s. Your current balance is $%s.\"\n",
    "\n",
    ">>> print(format_string % data)\n",
    "\n",
    "\n"
   ]
  },
  {
   "cell_type": "code",
   "execution_count": 5,
   "metadata": {},
   "outputs": [
    {
     "name": "stdout",
     "output_type": "stream",
     "text": [
      "One: {a}\n",
      "Two: {b}\n",
      "Three: {c}\n",
      "\n",
      "One: {a}\n",
      "Two: {b}\n",
      "Three: {c}\n",
      "\n"
     ]
    }
   ],
   "source": [
    "aurelio = 'One: {a}\\nTwo: {b}\\nThree: {c}\\n'\n",
    "print(aurelio)\n",
    "\n",
    "aurelio.format(a=1, b='two', c=12.3)\n",
    "print(aurelio)"
   ]
  },
  {
   "cell_type": "code",
   "execution_count": 23,
   "metadata": {},
   "outputs": [],
   "source": [
    "asdf = [1,2,'minha juda']\n",
    "\n"
   ]
  },
  {
   "cell_type": "code",
   "execution_count": 12,
   "metadata": {},
   "outputs": [
    {
     "name": "stdout",
     "output_type": "stream",
     "text": [
      "['minha juda', 2, 1]\n",
      "aduj ahnim\n"
     ]
    },
    {
     "data": {
      "text/plain": [
       "builtin_function_or_method"
      ]
     },
     "execution_count": 12,
     "metadata": {},
     "output_type": "execute_result"
    }
   ],
   "source": [
    "asdf = [1,2,'minha juda']\n",
    "\n",
    "print(asdf[::-1])\n",
    "\n",
    "print(asdf[-1][::-1])\n"
   ]
  },
  {
   "cell_type": "code",
   "execution_count": null,
   "metadata": {},
   "outputs": [],
   "source": [
    "\n",
    ">>> l_1 = [1,2,3]\n",
    ">>> l_2 = [4,5,6]\n",
    ">>> l_3 = [7,8,9]\n",
    ">>> matrix = [l_1, l_2, l_3]\n",
    ">>> first_col = [row[0] for row in matrix]"
   ]
  },
  {
   "cell_type": "code",
   "execution_count": 70,
   "metadata": {},
   "outputs": [
    {
     "name": "stdout",
     "output_type": "stream",
     "text": [
      "[1, 4, 7]\n"
     ]
    }
   ],
   "source": [
    "print(first_col)\n"
   ]
  },
  {
   "cell_type": "code",
   "execution_count": 69,
   "metadata": {},
   "outputs": [
    {
     "data": {
      "text/plain": [
       "[[1, 2, 3], [4, 5, 6], [7, 8, 9]]"
      ]
     },
     "execution_count": 69,
     "metadata": {},
     "output_type": "execute_result"
    }
   ],
   "source": [
    "matrix"
   ]
  },
  {
   "cell_type": "code",
   "execution_count": 86,
   "metadata": {},
   "outputs": [
    {
     "data": {
      "text/plain": [
       "<function TextIOWrapper.readline(size=-1, /)>"
      ]
     },
     "execution_count": 86,
     "metadata": {},
     "output_type": "execute_result"
    }
   ],
   "source": [
    "catlog = open('python-catalog')\n",
    "type(catlog)\n",
    "\n",
    "catlog.readline"
   ]
  },
  {
   "cell_type": "code",
   "execution_count": 104,
   "metadata": {},
   "outputs": [
    {
     "data": {
      "text/plain": [
       "'\\t\\tPYTHON\\n'"
      ]
     },
     "execution_count": 104,
     "metadata": {},
     "output_type": "execute_result"
    }
   ],
   "source": [
    "\n",
    "catlog.readline()"
   ]
  },
  {
   "cell_type": "code",
   "execution_count": 13,
   "metadata": {},
   "outputs": [
    {
     "data": {
      "text/plain": [
       "{1, 2, 'a', 'x'}"
      ]
     },
     "execution_count": 13,
     "metadata": {},
     "output_type": "execute_result"
    }
   ],
   "source": [
    "x = set()\n",
    "\n",
    "x.add('x')\n",
    "x.add('a')\n",
    "x.add(2)\n",
    "x.add(1)\n",
    "x"
   ]
  },
  {
   "cell_type": "code",
   "execution_count": 24,
   "metadata": {},
   "outputs": [
    {
     "name": "stdout",
     "output_type": "stream",
     "text": [
      "Help on built-in function sum in module builtins:\n",
      "\n",
      "sum(iterable, start=0, /)\n",
      "    Return the sum of a 'start' value (default: 0) plus an iterable of numbers\n",
      "    \n",
      "    When the iterable is empty, return the start value.\n",
      "    This function is intended specifically for use with numeric values and may\n",
      "    reject non-numeric types.\n",
      "\n"
     ]
    }
   ],
   "source": [
    "help(sum)"
   ]
  },
  {
   "cell_type": "code",
   "execution_count": 32,
   "metadata": {},
   "outputs": [
    {
     "data": {
      "text/plain": [
       "range(0, 10)"
      ]
     },
     "execution_count": 32,
     "metadata": {},
     "output_type": "execute_result"
    }
   ],
   "source": [
    "range(0,10)"
   ]
  },
  {
   "cell_type": "code",
   "execution_count": 33,
   "metadata": {},
   "outputs": [
    {
     "data": {
      "text/plain": [
       "range"
      ]
     },
     "execution_count": 33,
     "metadata": {},
     "output_type": "execute_result"
    }
   ],
   "source": [
    "type(range(0,10))"
   ]
  },
  {
   "cell_type": "code",
   "execution_count": 38,
   "metadata": {},
   "outputs": [
    {
     "data": {
      "text/plain": [
       "[0, 1, 2, 3, 4, 5, 6, 7, 8, 9]"
      ]
     },
     "execution_count": 38,
     "metadata": {},
     "output_type": "execute_result"
    }
   ],
   "source": [
    "list(range(10))"
   ]
  },
  {
   "cell_type": "code",
   "execution_count": 15,
   "metadata": {},
   "outputs": [
    {
     "data": {
      "text/plain": [
       "'h'"
      ]
     },
     "execution_count": 15,
     "metadata": {},
     "output_type": "execute_result"
    }
   ],
   "source": [
    "'bumbumzinho'[-2]"
   ]
  },
  {
   "cell_type": "code",
   "execution_count": 21,
   "metadata": {},
   "outputs": [
    {
     "name": "stdout",
     "output_type": "stream",
     "text": [
      "2 1\n",
      "1 x 2 = 2\n",
      "3 x 4 = 12\n",
      "5 x 6 = 30\n"
     ]
    }
   ],
   "source": [
    "\n",
    ">>> l = [ (1, 2), (3, 4), (5, 6) ]\n",
    ">>> (um, dois) = l[0]\n",
    ">>> print (dois, um)\n",
    "\n",
    "\n",
    ">>> for (um, dois) in l:\n",
    ">>> \tprint(\"%d x %d = %d\" %(um,dois,um * dois))"
   ]
  },
  {
   "cell_type": "code",
   "execution_count": 23,
   "metadata": {},
   "outputs": [
    {
     "name": "stdout",
     "output_type": "stream",
     "text": [
      "2 is even\n",
      "4 is even\n",
      "6 is even\n",
      "8 is even\n",
      "10 is even\n"
     ]
    }
   ],
   "source": [
    "\n",
    ">>> x = 0\n",
    ">>> while x <= 10:\n",
    ">>> \tx += 1\n",
    ">>> \tif (x % 2) == 1:\n",
    ">>> \t\tcontinue\n",
    ">>> \tprint (x, 'is even')"
   ]
  },
  {
   "cell_type": "code",
   "execution_count": 7,
   "metadata": {},
   "outputs": [
    {
     "data": {
      "text/plain": [
       "[32.0, 50.0, 59.0, 68.0, 86.0, 122.0, 212.0]"
      ]
     },
     "execution_count": 7,
     "metadata": {},
     "output_type": "execute_result"
    }
   ],
   "source": [
    "\n",
    ">>> celsius = [0, 10, 15, 20, 30, 50, 100]\n",
    ">>> fahrenheit = [ temp*(9/5)+32  for temp in  celsius ]\n",
    "fahrenheit\n"
   ]
  },
  {
   "cell_type": "code",
   "execution_count": 47,
   "metadata": {},
   "outputs": [
    {
     "data": {
      "text/plain": [
       "[32, 50, 59, 68, 86, 122, 212]"
      ]
     },
     "execution_count": 47,
     "metadata": {},
     "output_type": "execute_result"
    }
   ],
   "source": [
    "[int(f) for f in fahrenheit]"
   ]
  },
  {
   "cell_type": "code",
   "execution_count": 48,
   "metadata": {},
   "outputs": [
    {
     "name": "stdout",
     "output_type": "stream",
     "text": [
      "3 is odd\n",
      "6 is even\n",
      "9 is odd\n",
      "12 is even\n",
      "15 is odd\n",
      "18 is even\n",
      "21 is odd\n",
      "24 is even\n",
      "27 is odd\n",
      "30 is even\n",
      "33 is odd\n",
      "36 is even\n",
      "39 is odd\n",
      "42 is even\n",
      "45 is odd\n",
      "48 is even\n"
     ]
    }
   ],
   "source": [
    "for n in range(1,51):\n",
    "    if n%3==0: print('%d is even' %n) if n%2==0 else print('%d is odd' %n)"
   ]
  },
  {
   "cell_type": "code",
   "execution_count": 5,
   "metadata": {},
   "outputs": [
    {
     "data": {
      "text/plain": [
       "function"
      ]
     },
     "execution_count": 5,
     "metadata": {},
     "output_type": "execute_result"
    }
   ],
   "source": [
    "def vaiRODAdeNOVOessaBUCETA():\n",
    "    print('Paz na Terra')\n",
    "\n",
    "type(vaiRODAdeNOVOessaBUCETA)\n"
   ]
  },
  {
   "cell_type": "code",
   "execution_count": 22,
   "metadata": {},
   "outputs": [],
   "source": [
    "def isprime(num):\n",
    "    \"\"\"\n",
    "    Método pra checar se é primo\n",
    "    \"\"\"\n",
    "    \n",
    "    for ind in range(2,num):\n",
    "        if num%ind == 0 :\n",
    "            print(\"Not prime\")\n",
    "            break\n",
    "    else:\n",
    "        print(\"Prime\")"
   ]
  },
  {
   "cell_type": "code",
   "execution_count": 21,
   "metadata": {},
   "outputs": [
    {
     "name": "stdout",
     "output_type": "stream",
     "text": [
      "Prime\n"
     ]
    }
   ],
   "source": [
    "isprime(104729)"
   ]
  },
  {
   "cell_type": "code",
   "execution_count": 29,
   "metadata": {},
   "outputs": [],
   "source": [
    "square = lambda n : n ** 2"
   ]
  },
  {
   "cell_type": "code",
   "execution_count": 30,
   "metadata": {},
   "outputs": [
    {
     "data": {
      "text/plain": [
       "function"
      ]
     },
     "execution_count": 30,
     "metadata": {},
     "output_type": "execute_result"
    }
   ],
   "source": [
    "type(square)"
   ]
  },
  {
   "cell_type": "code",
   "execution_count": 31,
   "metadata": {},
   "outputs": [
    {
     "data": {
      "text/plain": [
       "<function __main__.<lambda>(n)>"
      ]
     },
     "execution_count": 31,
     "metadata": {},
     "output_type": "execute_result"
    }
   ],
   "source": [
    "lambda n : n ** 2"
   ]
  },
  {
   "cell_type": "code",
   "execution_count": 42,
   "metadata": {},
   "outputs": [
    {
     "data": {
      "text/plain": [
       "function"
      ]
     },
     "execution_count": 42,
     "metadata": {},
     "output_type": "execute_result"
    }
   ],
   "source": [
    "type(lambda n : n ** 2)"
   ]
  },
  {
   "cell_type": "code",
   "execution_count": 44,
   "metadata": {},
   "outputs": [
    {
     "name": "stdout",
     "output_type": "stream",
     "text": [
      "global\n",
      "local\n"
     ]
    }
   ],
   "source": [
    ">>> x = 'global'\n",
    ">>> def func():\n",
    ">>> \tx = 'local'\n",
    ">>> \tprint(x)\n",
    "\n",
    ">>> print(x)\n",
    "\n",
    ">>> func()\n"
   ]
  },
  {
   "cell_type": "code",
   "execution_count": 16,
   "metadata": {},
   "outputs": [
    {
     "name": "stdout",
     "output_type": "stream",
     "text": [
      "enclosing function local\n"
     ]
    }
   ],
   "source": [
    ">>> name = 'global'\n",
    ">>> def greet():\n",
    ">>> \tname = 'local'\n",
    ">>> \tdef hello():\n",
    ">>> \t\tprint('enclosing function '+ name)\n",
    ">>> \thello()\n",
    ">>> greet()"
   ]
  },
  {
   "cell_type": "code",
   "execution_count": 21,
   "metadata": {},
   "outputs": [
    {
     "name": "stdout",
     "output_type": "stream",
     "text": [
      "nested local\n",
      "local\n"
     ]
    }
   ],
   "source": [
    ">>> x = 'global'\n",
    ">>> def outterFunc():\n",
    ">>> \tx = 'local'\n",
    ">>> \tdef innerFunc1():\n",
    ">>> \t\tx = 'nested local'\n",
    ">>> \t\tprint (x)\n",
    ">>> \tdef innerFunc2():\n",
    ">>> \t\tnonlocal x\n",
    ">>> \t\tprint (x)\n",
    ">>> \tinnerFunc1()\n",
    ">>> \tinnerFunc2()\n",
    ">>> outterFunc()"
   ]
  },
  {
   "cell_type": "code",
   "execution_count": 41,
   "metadata": {},
   "outputs": [
    {
     "name": "stdout",
     "output_type": "stream",
     "text": [
      "global\n"
     ]
    }
   ],
   "source": [
    ">>> name = 'global'\n",
    ">>> def greet():\n",
    ">>> \t# now without the enclosing function local\n",
    ">>> \tdef hello():\n",
    ">>> \t\tprint(name)\n",
    ">>> \thello()\n",
    ">>> greet()"
   ]
  },
  {
   "cell_type": "code",
   "execution_count": 5,
   "metadata": {},
   "outputs": [
    {
     "name": "stdout",
     "output_type": "stream",
     "text": [
      "not local, global\n",
      "not local, global\n"
     ]
    }
   ],
   "source": [
    ">>> x = 'global'\n",
    ">>> def func():\n",
    ">>> \tglobal x\n",
    ">>> \tx = 'not local, global'\n",
    ">>> \tprint(x)\n",
    "\n",
    ">>> func()\n",
    "\n",
    ">>> print(x)\n"
   ]
  },
  {
   "cell_type": "code",
   "execution_count": 28,
   "metadata": {},
   "outputs": [
    {
     "data": {
      "text/plain": [
       "['a', 'a', 'a']"
      ]
     },
     "execution_count": 28,
     "metadata": {},
     "output_type": "execute_result"
    }
   ],
   "source": [
    "last = [567,987]\n",
    "(lin,col) = last\n",
    "\n",
    "lin = 'a'\n",
    "[lin]*3"
   ]
  },
  {
   "cell_type": "code",
   "execution_count": 51,
   "metadata": {},
   "outputs": [
    {
     "name": "stdout",
     "output_type": "stream",
     "text": [
      "[[0, 1, 2], [0, 1, 2], [0, 1, 2]]\n"
     ]
    }
   ],
   "source": [
    "testBoard = [['A', 'B', 'C'], ['D', 'E', 'F'], ['G', 'H', 'I']]\n",
    "\n",
    "print( [ testBoard[i][j]  for i in [0,1,2] for j in [0,1,2]] )"
   ]
  },
  {
   "cell_type": "code",
   "execution_count": 45,
   "metadata": {},
   "outputs": [
    {
     "data": {
      "text/plain": [
       "['A', 'B', 'C', 'D', 'E', 'F', 'G', 'H', 'I']"
      ]
     },
     "execution_count": 45,
     "metadata": {},
     "output_type": "execute_result"
    }
   ],
   "source": [
    "full = []\n",
    "for i in [0,1,2]:\n",
    "    for j in [0,1,2]:\n",
    "        full.append(testBoard[i][j])\n",
    "        \n",
    "full"
   ]
  },
  {
   "cell_type": "code",
   "execution_count": 48,
   "metadata": {},
   "outputs": [
    {
     "data": {
      "text/plain": [
       "[[0, 0], [1, 0], [2, 0], [0, 1], [1, 1], [2, 1], [0, 2], [1, 2], [2, 2]]"
      ]
     },
     "execution_count": 48,
     "metadata": {},
     "output_type": "execute_result"
    }
   ],
   "source": [
    "[ [i,j] for j in [0,1,2] for i in [0,1,2] ]"
   ]
  },
  {
   "cell_type": "code",
   "execution_count": 5,
   "metadata": {},
   "outputs": [],
   "source": [
    "class Person:\n",
    "    def __init__(mysillyobject, name, age):\n",
    "        mysillyobject.name = name\n",
    "        mysillyobject.age = age\n",
    "\n",
    "    def myfunc(abc):\n",
    "        print(\"Hello my name is \" + abc.name)\n",
    "\n",
    "p1 = Person(\"John\", 36)\n",
    "\n",
    "\n",
    "\n",
    "\n",
    "\n",
    "\n",
    "\n",
    "class Persons(object):\n",
    "    '''\n",
    "    Testeeeeeeeeee\n",
    "    '''\n",
    "    \n",
    "    \n",
    "    def __init__(Person, name, age):\n",
    "        Person.name = name\n",
    "        Person.age = age\n",
    "    \n",
    "    def __str__(self):\n",
    "        return 'coco'\n",
    "\n",
    "\n",
    "p2 = Persons(\"cuzinho\", 36)"
   ]
  },
  {
   "cell_type": "code",
   "execution_count": 6,
   "metadata": {},
   "outputs": [
    {
     "name": "stdout",
     "output_type": "stream",
     "text": [
      "Help on Person in module __main__ object:\n",
      "\n",
      "class Person(builtins.object)\n",
      " |  Person(name, age)\n",
      " |  \n",
      " |  Methods defined here:\n",
      " |  \n",
      " |  __init__(mysillyobject, name, age)\n",
      " |      Initialize self.  See help(type(self)) for accurate signature.\n",
      " |  \n",
      " |  myfunc(abc)\n",
      " |  \n",
      " |  ----------------------------------------------------------------------\n",
      " |  Data descriptors defined here:\n",
      " |  \n",
      " |  __dict__\n",
      " |      dictionary for instance variables (if defined)\n",
      " |  \n",
      " |  __weakref__\n",
      " |      list of weak references to the object (if defined)\n",
      "\n"
     ]
    }
   ],
   "source": [
    "help(p1)"
   ]
  },
  {
   "cell_type": "code",
   "execution_count": 7,
   "metadata": {},
   "outputs": [
    {
     "name": "stdout",
     "output_type": "stream",
     "text": [
      "Help on Persons in module __main__ object:\n",
      "\n",
      "class Persons(builtins.object)\n",
      " |  Persons(name, age)\n",
      " |  \n",
      " |  Testeeeeeeeeee\n",
      " |  \n",
      " |  Methods defined here:\n",
      " |  \n",
      " |  __init__(Person, name, age)\n",
      " |      Initialize self.  See help(type(self)) for accurate signature.\n",
      " |  \n",
      " |  __str__(self)\n",
      " |      Return str(self).\n",
      " |  \n",
      " |  ----------------------------------------------------------------------\n",
      " |  Data descriptors defined here:\n",
      " |  \n",
      " |  __dict__\n",
      " |      dictionary for instance variables (if defined)\n",
      " |  \n",
      " |  __weakref__\n",
      " |      list of weak references to the object (if defined)\n",
      "\n"
     ]
    }
   ],
   "source": [
    "help(p2)"
   ]
  },
  {
   "cell_type": "code",
   "execution_count": 1,
   "metadata": {},
   "outputs": [
    {
     "name": "stdout",
     "output_type": "stream",
     "text": [
      "\t♠\t♥\t♦\t♣\n",
      "\t♤\t♡\t♢\t♧\n"
     ]
    }
   ],
   "source": [
    "\n",
    "print('\\t\\u2660\\t\\u2665\\t\\u2666\\t\\u2663\\n\\t\\u2664\\t\\u2661\\t\\u2662\\t\\u2667')"
   ]
  },
  {
   "cell_type": "code",
   "execution_count": 5,
   "metadata": {},
   "outputs": [
    {
     "data": {
      "text/plain": [
       "True"
      ]
     },
     "execution_count": 5,
     "metadata": {},
     "output_type": "execute_result"
    }
   ],
   "source": [
    "'♠' == '♠'\n",
    "\n",
    "'♥' == '♦'"
   ]
  },
  {
   "cell_type": "code",
   "execution_count": 10,
   "metadata": {},
   "outputs": [
    {
     "ename": "ValueError",
     "evalue": "invalid literal for int() with base 10: '5,5'",
     "output_type": "error",
     "traceback": [
      "\u001b[0;31m---------------------------------------------------------------------------\u001b[0m",
      "\u001b[0;31mValueError\u001b[0m                                Traceback (most recent call last)",
      "\u001b[0;32m<ipython-input-10-fbbb7488b96b>\u001b[0m in \u001b[0;36m<module>\u001b[0;34m\u001b[0m\n\u001b[0;32m----> 1\u001b[0;31m \u001b[0mint\u001b[0m\u001b[0;34m(\u001b[0m\u001b[0;34m'5,5'\u001b[0m\u001b[0;34m)\u001b[0m\u001b[0;34m\u001b[0m\u001b[0;34m\u001b[0m\u001b[0m\n\u001b[0m",
      "\u001b[0;31mValueError\u001b[0m: invalid literal for int() with base 10: '5,5'"
     ]
    }
   ],
   "source": [
    "int('5,5')"
   ]
  },
  {
   "cell_type": "code",
   "execution_count": 4,
   "metadata": {},
   "outputs": [
    {
     "ename": "ValueError",
     "evalue": "invalid literal for int() with base 10: 'n'",
     "output_type": "error",
     "traceback": [
      "\u001b[0;31m---------------------------------------------------------------------------\u001b[0m",
      "\u001b[0;31mValueError\u001b[0m                                Traceback (most recent call last)",
      "\u001b[0;32m<ipython-input-4-b49e85ee9d8f>\u001b[0m in \u001b[0;36m<module>\u001b[0;34m\u001b[0m\n\u001b[0;32m----> 1\u001b[0;31m \u001b[0mint\u001b[0m\u001b[0;34m(\u001b[0m\u001b[0;34m'n'\u001b[0m\u001b[0;34m)\u001b[0m\u001b[0;34m\u001b[0m\u001b[0;34m\u001b[0m\u001b[0m\n\u001b[0m",
      "\u001b[0;31mValueError\u001b[0m: invalid literal for int() with base 10: 'n'"
     ]
    }
   ],
   "source": [
    "int('n')"
   ]
  },
  {
   "cell_type": "code",
   "execution_count": 15,
   "metadata": {},
   "outputs": [
    {
     "data": {
      "text/plain": [
       "[0, 1, 2]"
      ]
     },
     "execution_count": 15,
     "metadata": {},
     "output_type": "execute_result"
    }
   ],
   "source": [
    "list(range(3))"
   ]
  },
  {
   "cell_type": "code",
   "execution_count": 72,
   "metadata": {},
   "outputs": [
    {
     "data": {
      "text/plain": [
       "{'Ace': 'a',\n",
       " '2': '2',\n",
       " '3': '3',\n",
       " '4': '4',\n",
       " '5': '5',\n",
       " '6': '6',\n",
       " '7': '7',\n",
       " '8': '8',\n",
       " '9': '9',\n",
       " '10': '0',\n",
       " 'j': 'j',\n",
       " 'q': 'q',\n",
       " 'k': 'k'}"
      ]
     },
     "execution_count": 72,
     "metadata": {},
     "output_type": "execute_result"
    }
   ],
   "source": [
    "dictValues = {'a':'Ace', '2':2, '3':3, '4':4, '5':5, '6':6, '7':7, '8':8, '9':9, '0':10, 'j':'j', 'q':'q', 'k':'k'}\n",
    "\n",
    "x = {str(val):key for (key,val) in dictValues.items()}\n",
    "x"
   ]
  },
  {
   "cell_type": "code",
   "execution_count": 43,
   "metadata": {},
   "outputs": [
    {
     "name": "stdout",
     "output_type": "stream",
     "text": [
      "0, 0, 0, 1, 0, 1, 1, 0, 0, 0, 1, 0, 1, 1, 1, 0, 0, 1, 1, 0, 0, 1, 1, 0, 1, 0, 1, 0, 1, 0, 0, 1, 1, 1, 1, 0, 1, 1, 1, 0, 0, 0, 1, 1, 0, 1, 0, 1, 0, 0, 0, 0, 0, 0, 1, 1, 0, 1, 0, 0, 0, 1, 1, 1, 0, 1, 1, 0, 0, 0, 1, 0, 0, 0, 1, 1, 1, 0, 0, 0, 0, 0, 1, 0, 0, 1, 0, 1, 0, 1, 1, 1, 0, 0, 0, 1, 1, 0, 0, 0, "
     ]
    }
   ],
   "source": [
    "import random\n",
    "\n",
    "for i in range(100):\n",
    "    print(random.randrange(2), end=', ') "
   ]
  },
  {
   "cell_type": "code",
   "execution_count": 66,
   "metadata": {},
   "outputs": [
    {
     "name": "stdout",
     "output_type": "stream",
     "text": [
      "JoozinhodoVeropaTheDealer.pkl\n"
     ]
    }
   ],
   "source": [
    "import os\n",
    "\n",
    "\n",
    "for root, dirs, files in os.walk(\"/home/teles/Coding/python/Projects/blackjack_profiles/\"):\n",
    "    for filename in files:\n",
    "        print(filename)"
   ]
  },
  {
   "cell_type": "code",
   "execution_count": 69,
   "metadata": {},
   "outputs": [
    {
     "data": {
      "text/plain": [
       "[]"
      ]
     },
     "execution_count": 69,
     "metadata": {},
     "output_type": "execute_result"
    }
   ],
   "source": [
    "import os\n",
    "\n",
    "\n",
    "ls = [filename[:-4]  for root, dirs, files in os.walk(\"/home/teles/Coding/python/Projects/blackjack_profiles/\") for filename in files]\n",
    "ls"
   ]
  },
  {
   "cell_type": "code",
   "execution_count": 64,
   "metadata": {},
   "outputs": [
    {
     "data": {
      "text/plain": [
       "'abcd'"
      ]
     },
     "execution_count": 64,
     "metadata": {},
     "output_type": "execute_result"
    }
   ],
   "source": [
    "filename = 'abcd.pkl'\n",
    "filename = filename[:-4]\n",
    "filename"
   ]
  },
  {
   "cell_type": "code",
   "execution_count": null,
   "metadata": {},
   "outputs": [],
   "source": []
  }
 ],
 "metadata": {
  "kernelspec": {
   "display_name": "Python 3",
   "language": "python",
   "name": "python3"
  },
  "language_info": {
   "codemirror_mode": {
    "name": "ipython",
    "version": 3
   },
   "file_extension": ".py",
   "mimetype": "text/x-python",
   "name": "python",
   "nbconvert_exporter": "python",
   "pygments_lexer": "ipython3",
   "version": "3.7.3"
  }
 },
 "nbformat": 4,
 "nbformat_minor": 4
}
